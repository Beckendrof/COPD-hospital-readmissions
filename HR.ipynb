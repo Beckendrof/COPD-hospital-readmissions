{
 "cells": [
  {
   "cell_type": "markdown",
   "id": "42ea8b37",
   "metadata": {},
   "source": [
    "# Hospital Readmission \n",
    "## Objective\n",
    "\n",
    "A hospital readmission is an episode when a patient who had been discharged from a hospital is admitted again within a specified time interval. Reducing hospital readmissions—especially those that result from poor inpatient or outpatient care—has long been a health policy goal because it represents an opportunity to lower health care costs, improve quality, and increase patient satisfaction at once. This project has been aimed towards building a predictive modelling system that predicts hospital readmissions for a patient diagnosed with COPD, within 30 days. \n",
    "\n",
    "## COPD\n",
    "\n",
    "Chronic obstructive pulmonary disease (COPD) is a chronic inflammatory lung disease that causes obstructed airflow from the lungs. Symptoms include breathing difficulty, cough, mucus (sputum) production and wheezing.People with COPD are at increased risk of developing heart disease, lung cancer and a variety of other conditions.\n",
    "\n",
    "Emphysema and chronic bronchitis are the two most common conditions that contribute to COPD. These two conditions usually occur together and can vary in severity among individuals with COPD.\n",
    "\n",
    "## Why COPD\n",
    "\n",
    "Chronic obstructive pulmonary disease (COPD) is the third leading cause of death worldwide and has an associated treatment cost of $9,800 per patient per year in the US.1–3 Within 5 years of hospital discharge for a COPD exacerbation, the rehospitalization risk is 44%, and the mortality rate is 55.4% COPD affects more than 11 million Americans, and the disease prevalence among US veterans is 3-fold higher.\n",
    "\n",
    "Patients hospitalized for COPD have a 30-day readmission rate of 22.6%\n",
    "\n",
    "## Dataset being studied\n",
    "\n",
    "The dataset being studied is the CMS linkable 2008–2010 Medicare Data Entrepreneurs’ Synthetic Public Use File (DE-SynPUF) which is publically available online. The data are fully “synthetic,” meaning no beneficiary in the DE-SynPUF is an actual Medicare beneficiary. The data set containse 20 samples for the years 2008-2010 and each sample has 5 types of files.\n",
    "- CMS Beneficiary Summary DE-SynPUF\n",
    "- CMS Inpatient Claims DE-SynPUF\n",
    "- CMS Outpatient Claims DE-SynPUF\n",
    "- CMS Carrier Claims DE-SynPUF (also known as the Physician/Supplier Part B claims file)\n",
    "- CMS Prescription Drug Events (PDE) DE-SynPUF\n",
    "\n",
    "### Inclusion Criteria\n",
    "\n",
    "\n",
    "- Since people suffering from COPD experience asthamtic and exacerbative symptoms, the following ICD-9 codes ranging   from 490 to 496 were taken into consideration.\n",
    "\n",
    "1. 490 : Bronchitis, not specified as acute or chronic\n",
    "2. 491 : Chronic bronchitis\n",
    "3. 492 : Emphysema\n",
    "4. 493 : Asthma\n",
    "5. 494 : Bronchiectasis\n",
    "6. 495 : Extrinsic allergic alveolitis\n",
    "7. 496 : Chronic airway obstruction, not elsewhere classified\n",
    "8. 518.81 : Acute respiratory failure\n",
    "9. 518.82 : Other pulmonary insufficiency not elsewhere classified\n",
    "10. 518.84 : Acute and chronic respiratory failure\n",
    "11. 799.10 : Respiratory arrest\n",
    "\n",
    "- Patients getting readmitted within 30 days who are still living.\n",
    "\n",
    "### Exclusion Criteria \n",
    "\n",
    "- Patients with age below 60\n",
    "- The prescription, outpatient and carrier claims datasets.\n"
   ]
  },
  {
   "cell_type": "markdown",
   "id": "de0720fa",
   "metadata": {},
   "source": [
    "# Preparing the Data"
   ]
  },
  {
   "cell_type": "code",
   "execution_count": 1,
   "id": "c94b60df",
   "metadata": {},
   "outputs": [],
   "source": [
    "import pandas as pd\n",
    "import numpy as np\n",
    "import seaborn as sns\n",
    "import matplotlib.pyplot as plt\n",
    "\n",
    "from sklearn.model_selection import train_test_split\n",
    "from sklearn.feature_selection import SelectKBest\n",
    "from sklearn.feature_selection import chi2\n",
    "from sklearn.linear_model import LogisticRegression\n",
    "from sklearn.metrics import confusion_matrix\n",
    "from matplotlib import pyplot\n",
    "from imblearn.over_sampling import SMOTE\n",
    "\n",
    "import scikitplot.metrics as skplt\n",
    "\n",
    "pd.set_option(\"display.max_columns\", None)\n",
    "sns.color_palette(\"pastel\")\n",
    "sns.set_theme(palette=\"pastel\", style=\"dark\")"
   ]
  },
  {
   "cell_type": "code",
   "execution_count": 2,
   "id": "66f46684",
   "metadata": {},
   "outputs": [],
   "source": [
    "df1 = pd.read_csv(\"data/DE1_0_2008_Beneficiary_Summary_File_Sample_1.csv\")\n",
    "df2 = pd.read_csv(\"data/DE1_0_2008_Beneficiary_Summary_File_Sample_2.csv\")\n",
    "df3 = pd.read_csv(\"data/DE1_0_2008_Beneficiary_Summary_File_Sample_3.csv\")\n",
    "dft = pd.concat([df1,df2,df3], ignore_index=True)"
   ]
  },
  {
   "cell_type": "code",
   "execution_count": 39,
   "id": "25f14505",
   "metadata": {
    "scrolled": true
   },
   "outputs": [],
   "source": [
    "dfX = dft.drop(columns=['BENE_ESRD_IND', 'BENE_HI_CVRAGE_TOT_MONS', 'BENE_SMI_CVRAGE_TOT_MONS',\n",
    "       'BENE_HMO_CVRAGE_TOT_MONS', 'PLAN_CVRG_MOS_NUM', 'SP_CHRNKIDN', 'SP_CNCR','SP_ALZHDMTA', 'SP_CHRNKIDN', 'SP_RA_OA', 'MEDREIMB_IP', 'BENRES_IP', 'PPPYMT_IP', 'MEDREIMB_OP', 'BENRES_OP',\n",
    "       'PPPYMT_OP', 'MEDREIMB_CAR', 'BENRES_CAR', 'PPPYMT_CAR'])\n",
    "df = dfX[dfX['BENE_DEATH_DT'].isnull()].drop(columns=['BENE_DEATH_DT']).reset_index().drop(columns=['index'])"
   ]
  },
  {
   "cell_type": "markdown",
   "id": "a1480324",
   "metadata": {},
   "source": [
    "# Some EDA\n",
    "\n",
    "### Gender-Race Crosstab"
   ]
  },
  {
   "cell_type": "code",
   "execution_count": 4,
   "id": "dbe18779",
   "metadata": {},
   "outputs": [
    {
     "data": {
      "text/html": [
       "<div>\n",
       "<style scoped>\n",
       "    .dataframe tbody tr th:only-of-type {\n",
       "        vertical-align: middle;\n",
       "    }\n",
       "\n",
       "    .dataframe tbody tr th {\n",
       "        vertical-align: top;\n",
       "    }\n",
       "\n",
       "    .dataframe thead th {\n",
       "        text-align: right;\n",
       "    }\n",
       "</style>\n",
       "<table border=\"1\" class=\"dataframe\">\n",
       "  <thead>\n",
       "    <tr style=\"text-align: right;\">\n",
       "      <th>BENE_SEX_IDENT_CDx</th>\n",
       "      <th>Female</th>\n",
       "      <th>Male</th>\n",
       "    </tr>\n",
       "    <tr>\n",
       "      <th>BENE_RACE_CDx</th>\n",
       "      <th></th>\n",
       "      <th></th>\n",
       "    </tr>\n",
       "  </thead>\n",
       "  <tbody>\n",
       "    <tr>\n",
       "      <th>Black</th>\n",
       "      <td>20576</td>\n",
       "      <td>15730</td>\n",
       "    </tr>\n",
       "    <tr>\n",
       "      <th>Hispanic</th>\n",
       "      <td>4446</td>\n",
       "      <td>3711</td>\n",
       "    </tr>\n",
       "    <tr>\n",
       "      <th>Other</th>\n",
       "      <td>7900</td>\n",
       "      <td>6633</td>\n",
       "    </tr>\n",
       "    <tr>\n",
       "      <th>White</th>\n",
       "      <td>157951</td>\n",
       "      <td>126853</td>\n",
       "    </tr>\n",
       "  </tbody>\n",
       "</table>\n",
       "</div>"
      ],
      "text/plain": [
       "BENE_SEX_IDENT_CDx  Female    Male\n",
       "BENE_RACE_CDx                     \n",
       "Black                20576   15730\n",
       "Hispanic              4446    3711\n",
       "Other                 7900    6633\n",
       "White               157951  126853"
      ]
     },
     "execution_count": 4,
     "metadata": {},
     "output_type": "execute_result"
    }
   ],
   "source": [
    "df[\"BENE_SEX_IDENT_CDx\"] = df.BENE_SEX_IDENT_CD.replace([1,2], [\"Male\", \"Female\"])\n",
    "df[\"BENE_RACE_CDx\"] = df.BENE_RACE_CD.replace([1,2,3,5], [\"White\", \"Black\", \"Other\", \"Hispanic\"])\n",
    "\n",
    "pd.crosstab(df[\"BENE_RACE_CDx\"], df[\"BENE_SEX_IDENT_CDx\"])"
   ]
  },
  {
   "cell_type": "markdown",
   "id": "23d1b713",
   "metadata": {},
   "source": [
    "### Graph denoting birth years for different races and genders"
   ]
  },
  {
   "cell_type": "code",
   "execution_count": 5,
   "id": "1b4f2654",
   "metadata": {},
   "outputs": [
    {
     "data": {
      "text/plain": [
       "<AxesSubplot:xlabel='BENE_RACE_CDx', ylabel='BENE_BIRTH_DTx'>"
      ]
     },
     "execution_count": 5,
     "metadata": {},
     "output_type": "execute_result"
    },
    {
     "data": {
      "image/png": "[encoded data removed]",
      "text/plain": [
       "<Figure size 1080x576 with 1 Axes>"
      ]
     },
     "metadata": {},
     "output_type": "display_data"
    }
   ],
   "source": [
    "df[\"BENE_BIRTH_DTx\"] = [str(x) for x in df[\"BENE_BIRTH_DT\"]]\n",
    "df[\"BENE_BIRTH_DTx\"] = [x[:4] for x in df[\"BENE_BIRTH_DTx\"]]\n",
    "df[\"BENE_BIRTH_DTx\"] = [int(x) for x in df[\"BENE_BIRTH_DTx\"]]\n",
    "\n",
    "fig, ax = plt.subplots(figsize=(15,8))\n",
    "sns.boxplot(y=df.BENE_BIRTH_DTx, x=df.BENE_RACE_CDx, hue=df.BENE_SEX_IDENT_CDx, ax=ax)"
   ]
  },
  {
   "cell_type": "markdown",
   "id": "2098bd2e",
   "metadata": {},
   "source": [
    "### Using bins"
   ]
  },
  {
   "cell_type": "code",
   "execution_count": 38,
   "id": "3247ed4d",
   "metadata": {},
   "outputs": [
    {
     "name": "stderr",
     "output_type": "stream",
     "text": [
      "/var/folders/7v/5bjjg3ds57g4cvrlx_ny2qvr0000gp/T/ipykernel_8109/3685669400.py:1: FutureWarning: In a future version of pandas all arguments of Series.dropna will be keyword-only\n",
      "  df[\"BENE_BIRTH_DTx\"] = df[\"BENE_BIRTH_DTx\"].dropna(0)\n"
     ]
    },
    {
     "data": {
      "text/html": [
       "<div>\n",
       "<style scoped>\n",
       "    .dataframe tbody tr th:only-of-type {\n",
       "        vertical-align: middle;\n",
       "    }\n",
       "\n",
       "    .dataframe tbody tr th {\n",
       "        vertical-align: top;\n",
       "    }\n",
       "\n",
       "    .dataframe thead th {\n",
       "        text-align: right;\n",
       "    }\n",
       "</style>\n",
       "<table border=\"1\" class=\"dataframe\">\n",
       "  <thead>\n",
       "    <tr style=\"text-align: right;\">\n",
       "      <th></th>\n",
       "      <th></th>\n",
       "      <th>BENE_RACE_CDx</th>\n",
       "      <th>Black</th>\n",
       "      <th>Hispanic</th>\n",
       "      <th>Other</th>\n",
       "      <th>White</th>\n",
       "    </tr>\n",
       "    <tr>\n",
       "      <th>BENE_BIRTH_DTx2</th>\n",
       "      <th>SP_COPD</th>\n",
       "      <th>BENE_SEX_IDENT_CDx</th>\n",
       "      <th></th>\n",
       "      <th></th>\n",
       "      <th></th>\n",
       "      <th></th>\n",
       "    </tr>\n",
       "  </thead>\n",
       "  <tbody>\n",
       "    <tr>\n",
       "      <th rowspan=\"4\" valign=\"top\">Pre-1924</th>\n",
       "      <th rowspan=\"2\" valign=\"top\">1</th>\n",
       "      <th>Female</th>\n",
       "      <td>7.737725</td>\n",
       "      <td>1.880050</td>\n",
       "      <td>2.548167</td>\n",
       "      <td>87.834058</td>\n",
       "    </tr>\n",
       "    <tr>\n",
       "      <th>Male</th>\n",
       "      <td>5.587610</td>\n",
       "      <td>1.822047</td>\n",
       "      <td>2.763438</td>\n",
       "      <td>89.826906</td>\n",
       "    </tr>\n",
       "    <tr>\n",
       "      <th rowspan=\"2\" valign=\"top\">2</th>\n",
       "      <th>Female</th>\n",
       "      <td>8.309577</td>\n",
       "      <td>2.259529</td>\n",
       "      <td>3.801077</td>\n",
       "      <td>85.629817</td>\n",
       "    </tr>\n",
       "    <tr>\n",
       "      <th>Male</th>\n",
       "      <td>7.053683</td>\n",
       "      <td>3.128034</td>\n",
       "      <td>3.835483</td>\n",
       "      <td>85.982799</td>\n",
       "    </tr>\n",
       "    <tr>\n",
       "      <th rowspan=\"4\" valign=\"top\">1924-1928</th>\n",
       "      <th rowspan=\"2\" valign=\"top\">1</th>\n",
       "      <th>Female</th>\n",
       "      <td>7.556912</td>\n",
       "      <td>2.299930</td>\n",
       "      <td>2.581554</td>\n",
       "      <td>87.561605</td>\n",
       "    </tr>\n",
       "    <tr>\n",
       "      <th>Male</th>\n",
       "      <td>5.475605</td>\n",
       "      <td>2.106002</td>\n",
       "      <td>2.808003</td>\n",
       "      <td>89.610390</td>\n",
       "    </tr>\n",
       "    <tr>\n",
       "      <th rowspan=\"2\" valign=\"top\">2</th>\n",
       "      <th>Female</th>\n",
       "      <td>8.391795</td>\n",
       "      <td>3.094752</td>\n",
       "      <td>3.592043</td>\n",
       "      <td>84.921410</td>\n",
       "    </tr>\n",
       "    <tr>\n",
       "      <th>Male</th>\n",
       "      <td>7.397016</td>\n",
       "      <td>2.926923</td>\n",
       "      <td>3.456192</td>\n",
       "      <td>86.219870</td>\n",
       "    </tr>\n",
       "    <tr>\n",
       "      <th rowspan=\"4\" valign=\"top\">1929-1933</th>\n",
       "      <th rowspan=\"2\" valign=\"top\">1</th>\n",
       "      <th>Female</th>\n",
       "      <td>8.824209</td>\n",
       "      <td>2.079002</td>\n",
       "      <td>3.326403</td>\n",
       "      <td>85.770386</td>\n",
       "    </tr>\n",
       "    <tr>\n",
       "      <th>Male</th>\n",
       "      <td>6.880190</td>\n",
       "      <td>1.423488</td>\n",
       "      <td>4.003559</td>\n",
       "      <td>87.692764</td>\n",
       "    </tr>\n",
       "    <tr>\n",
       "      <th rowspan=\"2\" valign=\"top\">2</th>\n",
       "      <th>Female</th>\n",
       "      <td>9.448760</td>\n",
       "      <td>2.075125</td>\n",
       "      <td>4.525498</td>\n",
       "      <td>83.950617</td>\n",
       "    </tr>\n",
       "    <tr>\n",
       "      <th>Male</th>\n",
       "      <td>7.867709</td>\n",
       "      <td>1.955149</td>\n",
       "      <td>4.192971</td>\n",
       "      <td>85.984170</td>\n",
       "    </tr>\n",
       "    <tr>\n",
       "      <th rowspan=\"4\" valign=\"top\">1934-1938</th>\n",
       "      <th rowspan=\"2\" valign=\"top\">1</th>\n",
       "      <th>Female</th>\n",
       "      <td>9.355132</td>\n",
       "      <td>1.861944</td>\n",
       "      <td>3.633061</td>\n",
       "      <td>85.149864</td>\n",
       "    </tr>\n",
       "    <tr>\n",
       "      <th>Male</th>\n",
       "      <td>8.821011</td>\n",
       "      <td>1.455895</td>\n",
       "      <td>3.511276</td>\n",
       "      <td>86.211818</td>\n",
       "    </tr>\n",
       "    <tr>\n",
       "      <th rowspan=\"2\" valign=\"top\">2</th>\n",
       "      <th>Female</th>\n",
       "      <td>9.819731</td>\n",
       "      <td>1.836409</td>\n",
       "      <td>4.755043</td>\n",
       "      <td>83.588816</td>\n",
       "    </tr>\n",
       "    <tr>\n",
       "      <th>Male</th>\n",
       "      <td>8.731227</td>\n",
       "      <td>1.611646</td>\n",
       "      <td>4.732219</td>\n",
       "      <td>84.924908</td>\n",
       "    </tr>\n",
       "    <tr>\n",
       "      <th rowspan=\"4\" valign=\"top\">1939-1942</th>\n",
       "      <th rowspan=\"2\" valign=\"top\">1</th>\n",
       "      <th>Female</th>\n",
       "      <td>10.607832</td>\n",
       "      <td>1.694915</td>\n",
       "      <td>3.974284</td>\n",
       "      <td>83.722969</td>\n",
       "    </tr>\n",
       "    <tr>\n",
       "      <th>Male</th>\n",
       "      <td>8.356071</td>\n",
       "      <td>1.909959</td>\n",
       "      <td>3.649386</td>\n",
       "      <td>86.084584</td>\n",
       "    </tr>\n",
       "    <tr>\n",
       "      <th rowspan=\"2\" valign=\"top\">2</th>\n",
       "      <th>Female</th>\n",
       "      <td>10.040057</td>\n",
       "      <td>1.886549</td>\n",
       "      <td>4.994185</td>\n",
       "      <td>83.079209</td>\n",
       "    </tr>\n",
       "    <tr>\n",
       "      <th>Male</th>\n",
       "      <td>9.475720</td>\n",
       "      <td>1.797737</td>\n",
       "      <td>5.353818</td>\n",
       "      <td>83.372726</td>\n",
       "    </tr>\n",
       "    <tr>\n",
       "      <th rowspan=\"4\" valign=\"top\">Post-1943</th>\n",
       "      <th rowspan=\"2\" valign=\"top\">1</th>\n",
       "      <th>Female</th>\n",
       "      <td>20.264080</td>\n",
       "      <td>2.991108</td>\n",
       "      <td>2.964161</td>\n",
       "      <td>73.780652</td>\n",
       "    </tr>\n",
       "    <tr>\n",
       "      <th>Male</th>\n",
       "      <td>18.399264</td>\n",
       "      <td>2.882551</td>\n",
       "      <td>4.354492</td>\n",
       "      <td>74.363692</td>\n",
       "    </tr>\n",
       "    <tr>\n",
       "      <th rowspan=\"2\" valign=\"top\">2</th>\n",
       "      <th>Female</th>\n",
       "      <td>20.004040</td>\n",
       "      <td>3.136205</td>\n",
       "      <td>3.817989</td>\n",
       "      <td>73.041766</td>\n",
       "    </tr>\n",
       "    <tr>\n",
       "      <th>Male</th>\n",
       "      <td>18.749439</td>\n",
       "      <td>3.553140</td>\n",
       "      <td>4.195490</td>\n",
       "      <td>73.501932</td>\n",
       "    </tr>\n",
       "  </tbody>\n",
       "</table>\n",
       "</div>"
      ],
      "text/plain": [
       "BENE_RACE_CDx                                   Black  Hispanic     Other  \\\n",
       "BENE_BIRTH_DTx2 SP_COPD BENE_SEX_IDENT_CDx                                  \n",
       "Pre-1924        1       Female               7.737725  1.880050  2.548167   \n",
       "                        Male                 5.587610  1.822047  2.763438   \n",
       "                2       Female               8.309577  2.259529  3.801077   \n",
       "                        Male                 7.053683  3.128034  3.835483   \n",
       "1924-1928       1       Female               7.556912  2.299930  2.581554   \n",
       "                        Male                 5.475605  2.106002  2.808003   \n",
       "                2       Female               8.391795  3.094752  3.592043   \n",
       "                        Male                 7.397016  2.926923  3.456192   \n",
       "1929-1933       1       Female               8.824209  2.079002  3.326403   \n",
       "                        Male                 6.880190  1.423488  4.003559   \n",
       "                2       Female               9.448760  2.075125  4.525498   \n",
       "                        Male                 7.867709  1.955149  4.192971   \n",
       "1934-1938       1       Female               9.355132  1.861944  3.633061   \n",
       "                        Male                 8.821011  1.455895  3.511276   \n",
       "                2       Female               9.819731  1.836409  4.755043   \n",
       "                        Male                 8.731227  1.611646  4.732219   \n",
       "1939-1942       1       Female              10.607832  1.694915  3.974284   \n",
       "                        Male                 8.356071  1.909959  3.649386   \n",
       "                2       Female              10.040057  1.886549  4.994185   \n",
       "                        Male                 9.475720  1.797737  5.353818   \n",
       "Post-1943       1       Female              20.264080  2.991108  2.964161   \n",
       "                        Male                18.399264  2.882551  4.354492   \n",
       "                2       Female              20.004040  3.136205  3.817989   \n",
       "                        Male                18.749439  3.553140  4.195490   \n",
       "\n",
       "BENE_RACE_CDx                                   White  \n",
       "BENE_BIRTH_DTx2 SP_COPD BENE_SEX_IDENT_CDx             \n",
       "Pre-1924        1       Female              87.834058  \n",
       "                        Male                89.826906  \n",
       "                2       Female              85.629817  \n",
       "                        Male                85.982799  \n",
       "1924-1928       1       Female              87.561605  \n",
       "                        Male                89.610390  \n",
       "                2       Female              84.921410  \n",
       "                        Male                86.219870  \n",
       "1929-1933       1       Female              85.770386  \n",
       "                        Male                87.692764  \n",
       "                2       Female              83.950617  \n",
       "                        Male                85.984170  \n",
       "1934-1938       1       Female              85.149864  \n",
       "                        Male                86.211818  \n",
       "                2       Female              83.588816  \n",
       "                        Male                84.924908  \n",
       "1939-1942       1       Female              83.722969  \n",
       "                        Male                86.084584  \n",
       "                2       Female              83.079209  \n",
       "                        Male                83.372726  \n",
       "Post-1943       1       Female              73.780652  \n",
       "                        Male                74.363692  \n",
       "                2       Female              73.041766  \n",
       "                        Male                73.501932  "
      ]
     },
     "execution_count": 38,
     "metadata": {},
     "output_type": "execute_result"
    }
   ],
   "source": [
    "df[\"BENE_BIRTH_DTx\"] = df[\"BENE_BIRTH_DTx\"].dropna(0)\n",
    "df[\"BENE_BIRTH_DTx2\"] = pd.cut(df[\"BENE_BIRTH_DTx\"], [1900,1924,1929,1934,1939,1943,1970], labels=[\"Pre-1924\",\"1924-1928\",\"1929-1933\",\"1934-1938\",\"1939-1942\",\"Post-1943\"])\n",
    "dfx = df.groupby([\"BENE_BIRTH_DTx2\", \"SP_COPD\", \"BENE_SEX_IDENT_CDx\"])[\"BENE_RACE_CDx\"].value_counts().unstack().apply(lambda x: x/x.sum()*100, axis=1)\n",
    "dfx"
   ]
  },
  {
   "cell_type": "markdown",
   "id": "5b8f2afc",
   "metadata": {},
   "source": [
    "## A few commorbities faced by COPD patients\n",
    "\n",
    "### 1. Cardiovascular Disease\n",
    "Various forms of cardiovascular disease, including hypertension, coronary artery disease, and heart failure, are the most common and most notable COPD comorbidities. Patients with COPD had 2.5 times higher odds of developing any form of cardiovascular disease.\n",
    "### 2. Diabetes and Metabolic Syndrome\n",
    "The prevalence of diabetes among COPD patients ranges from 10% to 19%. The prevalence of metabolic syndrome among COPD patients has been estimated to be between 20% and 50%, depending on COPD severity.\n",
    "### 3. Osteoporosis\n",
    "Osteoporosis results in reduced bone density and increased risk for bone fractures. Declining health status due to older age increases risk for both osteoporosis and COPD.\n",
    "### 4. Lung Cancer\n",
    "Symptoms of COPD, such as obstructed airflow, respiratory exacerbations in the past year, and visual emphysema, have been shown to increase the odds of developing lung cancer.\n",
    "### 5. Depression\n",
    "Mood disorders, particularly depression, are common among individuals with COPD. The prevalence of depression among individuals with COPD is estimated to range from 20% to 60%, depending on COPD severity and screening techniques. \n",
    "### 6. Sleep Disorders\n",
    "Approximately 10% of COPD patients have obstructive sleep apnea and about 20% of people with sleep apnea are also diagnosed with COPD. In general, patients with COPD often report greater sleep disturbances than individuals without COPD, including interrupted sleep and less deep sleep.\n",
    "\n",
    "#### In the lines below, a gender wise distribution of the different commordities mentioned above is carried out."
   ]
  },
  {
   "cell_type": "code",
   "execution_count": 7,
   "id": "f7a6c231",
   "metadata": {
    "scrolled": false
   },
   "outputs": [
    {
     "data": {
      "image/png": "[encoded data removed]",
      "text/plain": [
       "<Figure size 504.3x360 with 1 Axes>"
      ]
     },
     "metadata": {},
     "output_type": "display_data"
    },
    {
     "data": {
      "image/png": "[encoded data removed]",
      "text/plain": [
       "<Figure size 504.3x360 with 1 Axes>"
      ]
     },
     "metadata": {},
     "output_type": "display_data"
    },
    {
     "data": {
      "image/png": "[encoded data removed]",
      "text/plain": [
       "<Figure size 504.3x360 with 1 Axes>"
      ]
     },
     "metadata": {},
     "output_type": "display_data"
    },
    {
     "data": {
      "image/png": "[encoded data removed]",
      "text/plain": [
       "<Figure size 504.3x360 with 1 Axes>"
      ]
     },
     "metadata": {},
     "output_type": "display_data"
    },
    {
     "data": {
      "image/png": "[encoded data removed]",
      "text/plain": [
       "<Figure size 504.3x360 with 1 Axes>"
      ]
     },
     "metadata": {},
     "output_type": "display_data"
    },
    {
     "data": {
      "image/png": "[encoded data removed]",
      "text/plain": [
       "<Figure size 504.3x360 with 1 Axes>"
      ]
     },
     "metadata": {},
     "output_type": "display_data"
    }
   ],
   "source": [
    "dfx = df.iloc[:,6:12]\n",
    "dfx[\"BENE_SEX_IDENT_CDx\"] = df[\"BENE_SEX_IDENT_CDx\"]\n",
    "columns = np.array(dfx.columns)\n",
    "for i in range(len(columns)-1):\n",
    "    sns.catplot(x=columns[i], kind=\"count\", hue=\"BENE_SEX_IDENT_CDx\" ,palette=\"ch:.25\", data=dfx)"
   ]
  },
  {
   "cell_type": "markdown",
   "id": "55231b80",
   "metadata": {},
   "source": [
    "From the finding we concur that the female count for each of the disease is higher than the male count. Also in the case of COPD, the ratio of people from the sample who have the disease to who don't have the disease is rougly 19:100 "
   ]
  },
  {
   "cell_type": "markdown",
   "id": "16d12139",
   "metadata": {},
   "source": [
    "## Integrating Inpatient data"
   ]
  },
  {
   "cell_type": "code",
   "execution_count": 8,
   "id": "ad6f4ea7",
   "metadata": {},
   "outputs": [],
   "source": [
    "da = pd.read_csv(\"data/DE1_0_2008_to_2010_Inpatient_Claims_Sample_1.csv\")\n",
    "da2 = pd.read_csv('data/DE1_0_2008_to_2010_Inpatient_Claims_Sample_2.csv')\n",
    "da3 = pd.read_csv('data/DE1_0_2008_to_2010_Inpatient_Claims_Sample_3.csv')\n",
    "da = pd.concat([da,da2,da3], ignore_index=True)"
   ]
  },
  {
   "cell_type": "markdown",
   "id": "c4b12e74",
   "metadata": {},
   "source": [
    "Since any columns regrading payment is not influential to our goal, we have chosen to drop it. This includes any columns ending with AM or AMT. Other columns that will be droped include :\n",
    "\n",
    "- Any columns ending with NPI or NUM since the Npin for a a physician has no possible links in the future or to other   "
   ]
  },
  {
   "cell_type": "code",
   "execution_count": 9,
   "id": "bf9fc62d",
   "metadata": {},
   "outputs": [],
   "source": [
    "da = da.drop(columns=['PRVDR_NUM', 'CLM_PMT_AMT','CLM_FROM_DT' ,'SEGMENT' ,'CLM_THRU_DT' , 'NCH_PRMRY_PYR_CLM_PD_AMT', 'AT_PHYSN_NPI',\n",
    "       'OP_PHYSN_NPI', 'OT_PHYSN_NPI','CLM_PASS_THRU_PER_DIEM_AMT', 'NCH_BENE_IP_DDCTBL_AMT',\n",
    "       'NCH_BENE_PTA_COINSRNC_LBLTY_AM', 'NCH_BENE_BLOOD_DDCTBL_LBLTY_AM','HCPCS_CD_1', 'HCPCS_CD_2',\n",
    "       'HCPCS_CD_3', 'HCPCS_CD_4', 'HCPCS_CD_5', 'HCPCS_CD_6', 'HCPCS_CD_7',\n",
    "       'HCPCS_CD_8', 'HCPCS_CD_9', 'HCPCS_CD_10', 'HCPCS_CD_11', 'HCPCS_CD_12',\n",
    "       'HCPCS_CD_13', 'HCPCS_CD_14', 'HCPCS_CD_15', 'HCPCS_CD_16',\n",
    "       'HCPCS_CD_17', 'HCPCS_CD_18', 'HCPCS_CD_19', 'HCPCS_CD_20',\n",
    "       'HCPCS_CD_21', 'HCPCS_CD_22', 'HCPCS_CD_23', 'HCPCS_CD_24',\n",
    "       'HCPCS_CD_25', 'HCPCS_CD_26', 'HCPCS_CD_27', 'HCPCS_CD_28',\n",
    "       'HCPCS_CD_29', 'HCPCS_CD_30', 'HCPCS_CD_31', 'HCPCS_CD_32',\n",
    "       'HCPCS_CD_33', 'HCPCS_CD_34', 'HCPCS_CD_35', 'HCPCS_CD_36',\n",
    "       'HCPCS_CD_37', 'HCPCS_CD_38', 'HCPCS_CD_39', 'HCPCS_CD_40',\n",
    "       'HCPCS_CD_41', 'HCPCS_CD_42', 'HCPCS_CD_43', 'HCPCS_CD_44',\n",
    "       'HCPCS_CD_45','ICD9_PRCDR_CD_1',\n",
    "       'ICD9_PRCDR_CD_2', 'ICD9_PRCDR_CD_3', 'ICD9_PRCDR_CD_4',\n",
    "       'ICD9_PRCDR_CD_5', 'ICD9_PRCDR_CD_6'])"
   ]
  },
  {
   "cell_type": "markdown",
   "id": "bf15edee",
   "metadata": {},
   "source": [
    "Selecting only those rows with matching the ICD-9 codes mentioned in the inclusion criteria that was earlier finalised on."
   ]
  },
  {
   "cell_type": "code",
   "execution_count": 10,
   "id": "6132b1bf",
   "metadata": {
    "scrolled": true
   },
   "outputs": [],
   "source": [
    "dax = da.loc[da['CLM_DRG_CD'].isin(['490','491','492','493','494','495','496'])].reset_index().drop(columns=['index'])\n",
    "temp = dax\n",
    "temp = temp.set_index(['DESYNPUF_ID'])"
   ]
  },
  {
   "cell_type": "code",
   "execution_count": 11,
   "id": "8c3687f6",
   "metadata": {},
   "outputs": [
    {
     "data": {
      "text/plain": [
       "(21, 17)"
      ]
     },
     "execution_count": 11,
     "metadata": {},
     "output_type": "execute_result"
    }
   ],
   "source": [
    "cms = np.array(da.columns)\n",
    "res = pd.DataFrame()\n",
    "for i in cms:\n",
    "    tempx = dax.loc[dax[i].isin(['51881','51882','51884','79910'])]\n",
    "    res = pd.concat([tempx,res],  join='outer', copy=False)\n",
    "res.shape"
   ]
  },
  {
   "cell_type": "markdown",
   "id": "e82f9985",
   "metadata": {},
   "source": [
    "#### If we take the other ICD-9 code into consideration the dataset shrinks down to a very small size. Hence we choose to ignore it here.\n",
    "\n",
    "### Defining readmission function"
   ]
  },
  {
   "cell_type": "code",
   "execution_count": 12,
   "id": "cc1547ca",
   "metadata": {},
   "outputs": [],
   "source": [
    "def check_readm(dax2):\n",
    "    adm = np.array(dax2['CLM_ADMSN_DT'])\n",
    "    dis = np.array(dax2['NCH_BENE_DSCHRG_DT'])\n",
    "    dis = dis.astype(int)\n",
    "    np.append(dis,[0])\n",
    "    adm = adm.astype(int)\n",
    "    if len(dax2.shape) < 2 :\n",
    "        return [0,0]\n",
    "    else:\n",
    "        for i in range(len(adm)-1):\n",
    "            if adm[i+1]-dis[i] < 130:\n",
    "                readmission = 1\n",
    "                date = adm[i+1]\n",
    "            else:\n",
    "                readmission = 0\n",
    "                date = 0\n",
    "    return [readmission,date]"
   ]
  },
  {
   "cell_type": "markdown",
   "id": "d0a07ed1",
   "metadata": {},
   "source": [
    "Making a separate table that denotes readmission for every unique beneficiary ID. Readmission is denoted by a 1."
   ]
  },
  {
   "cell_type": "code",
   "execution_count": 13,
   "id": "9974300a",
   "metadata": {
    "scrolled": true
   },
   "outputs": [],
   "source": [
    "beneficiaries = dax['DESYNPUF_ID'].unique()\n",
    "readmission = pd.DataFrame(index=beneficiaries,columns=['Readmitted'])\n",
    "for bf in beneficiaries:\n",
    "    value = temp.loc[bf, ['CLM_ADMSN_DT','NCH_BENE_DSCHRG_DT']]\n",
    "    t = check_readm(value)\n",
    "    readmission.loc[bf, ['Readmitted']] = t[0]       "
   ]
  },
  {
   "cell_type": "code",
   "execution_count": 14,
   "id": "fe677892",
   "metadata": {},
   "outputs": [
    {
     "data": {
      "text/html": [
       "<div>\n",
       "<style scoped>\n",
       "    .dataframe tbody tr th:only-of-type {\n",
       "        vertical-align: middle;\n",
       "    }\n",
       "\n",
       "    .dataframe tbody tr th {\n",
       "        vertical-align: top;\n",
       "    }\n",
       "\n",
       "    .dataframe thead th {\n",
       "        text-align: right;\n",
       "    }\n",
       "</style>\n",
       "<table border=\"1\" class=\"dataframe\">\n",
       "  <thead>\n",
       "    <tr style=\"text-align: right;\">\n",
       "      <th></th>\n",
       "      <th>Readmitted</th>\n",
       "    </tr>\n",
       "  </thead>\n",
       "  <tbody>\n",
       "    <tr>\n",
       "      <th>169D1DBB23DA678F</th>\n",
       "      <td>1</td>\n",
       "    </tr>\n",
       "    <tr>\n",
       "      <th>163A56A706042991</th>\n",
       "      <td>1</td>\n",
       "    </tr>\n",
       "    <tr>\n",
       "      <th>54F3A79922CDB9D8</th>\n",
       "      <td>1</td>\n",
       "    </tr>\n",
       "    <tr>\n",
       "      <th>893EF00E5677D6DC</th>\n",
       "      <td>1</td>\n",
       "    </tr>\n",
       "    <tr>\n",
       "      <th>03762965CAB8A238</th>\n",
       "      <td>1</td>\n",
       "    </tr>\n",
       "    <tr>\n",
       "      <th>0EDCD946C2C7CB63</th>\n",
       "      <td>1</td>\n",
       "    </tr>\n",
       "  </tbody>\n",
       "</table>\n",
       "</div>"
      ],
      "text/plain": [
       "                 Readmitted\n",
       "169D1DBB23DA678F          1\n",
       "163A56A706042991          1\n",
       "54F3A79922CDB9D8          1\n",
       "893EF00E5677D6DC          1\n",
       "03762965CAB8A238          1\n",
       "0EDCD946C2C7CB63          1"
      ]
     },
     "execution_count": 14,
     "metadata": {},
     "output_type": "execute_result"
    }
   ],
   "source": [
    "readmission[readmission['Readmitted'] == 1]"
   ]
  },
  {
   "cell_type": "markdown",
   "id": "20488b5d",
   "metadata": {},
   "source": [
    "## Finalising on list of features"
   ]
  },
  {
   "cell_type": "code",
   "execution_count": 15,
   "id": "691f683d",
   "metadata": {},
   "outputs": [],
   "source": [
    "df_in = df.loc[df['DESYNPUF_ID'].isin(np.array(dax['DESYNPUF_ID'].unique()))].reset_index().drop(columns=\"index\")\n",
    "df_in = df_in.drop(columns=['SP_STATE_CODE','BENE_COUNTY_CD','BENE_BIRTH_DT','BENE_SEX_IDENT_CDx','BENE_RACE_CDx','BENE_BIRTH_DTx2'])\n",
    "df_in['age'] = [2008-x for x in df_in['BENE_BIRTH_DTx']]\n",
    "df_in = df_in.drop(columns=[\"BENE_BIRTH_DTx\"])\n",
    "\n",
    "readmissionx = readmission.reset_index()\n",
    "readmissionx.rename(columns={'index':'DESYNPUF_ID'}, inplace=True)\n",
    "df_in = readmissionx.merge(df_in, how='inner', on='DESYNPUF_ID')"
   ]
  },
  {
   "cell_type": "markdown",
   "id": "758a74b1",
   "metadata": {},
   "source": [
    "### Applying Label Encoders"
   ]
  },
  {
   "cell_type": "code",
   "execution_count": 16,
   "id": "6509689d",
   "metadata": {},
   "outputs": [],
   "source": [
    "df_in.loc[df_in['age'] < 60, 'age'] = 0\n",
    "df_in.loc[df_in['age'] > 60, 'age'] = 1\n",
    "df_in = df_in.rename(columns={'age':'Above 60'})"
   ]
  },
  {
   "cell_type": "code",
   "execution_count": 17,
   "id": "c21eedcd",
   "metadata": {},
   "outputs": [],
   "source": [
    "df_in[\"BENE_SEX_IDENT_CD\"] = df_in.BENE_SEX_IDENT_CD.replace([1,2], [\"Male\", \"Female\"])\n",
    "df_in[\"BENE_RACE_CD\"] = df_in.BENE_RACE_CD.replace([1,2,3,5], [\"White\", \"Black\", \"Other\", \"Hispanic\"])\n",
    "df_in = pd.get_dummies(data=df_in, columns=['BENE_SEX_IDENT_CD','BENE_RACE_CD'])\n",
    "\n",
    "temp = df_in.iloc[:,2:9].replace({1:0,2:1})\n",
    "df_in = df_in.drop(columns=['SP_CHF', 'SP_COPD',\n",
    "       'SP_DIABETES', 'SP_ISCHMCHT', 'SP_OSTEOPRS', 'SP_STRKETIA', 'SP_DEPRESSN'])\n",
    "df_in = pd.concat([df_in,temp],axis=1)"
   ]
  },
  {
   "cell_type": "code",
   "execution_count": 18,
   "id": "63c4d143",
   "metadata": {
    "scrolled": false
   },
   "outputs": [
    {
     "data": {
      "text/html": [
       "<div>\n",
       "<style scoped>\n",
       "    .dataframe tbody tr th:only-of-type {\n",
       "        vertical-align: middle;\n",
       "    }\n",
       "\n",
       "    .dataframe tbody tr th {\n",
       "        vertical-align: top;\n",
       "    }\n",
       "\n",
       "    .dataframe thead th {\n",
       "        text-align: right;\n",
       "    }\n",
       "</style>\n",
       "<table border=\"1\" class=\"dataframe\">\n",
       "  <thead>\n",
       "    <tr style=\"text-align: right;\">\n",
       "      <th></th>\n",
       "      <th>DESYNPUF_ID</th>\n",
       "      <th>Readmitted</th>\n",
       "      <th>Above 60</th>\n",
       "      <th>BENE_SEX_IDENT_CD_Female</th>\n",
       "      <th>BENE_SEX_IDENT_CD_Male</th>\n",
       "      <th>BENE_RACE_CD_Black</th>\n",
       "      <th>BENE_RACE_CD_Hispanic</th>\n",
       "      <th>BENE_RACE_CD_Other</th>\n",
       "      <th>BENE_RACE_CD_White</th>\n",
       "      <th>SP_CHF</th>\n",
       "      <th>SP_COPD</th>\n",
       "      <th>SP_DEPRESSN</th>\n",
       "      <th>SP_DIABETES</th>\n",
       "      <th>SP_ISCHMCHT</th>\n",
       "      <th>SP_OSTEOPRS</th>\n",
       "      <th>SP_STRKETIA</th>\n",
       "    </tr>\n",
       "  </thead>\n",
       "  <tbody>\n",
       "    <tr>\n",
       "      <th>0</th>\n",
       "      <td>006D1BD234E5C844</td>\n",
       "      <td>0</td>\n",
       "      <td>1</td>\n",
       "      <td>0</td>\n",
       "      <td>1</td>\n",
       "      <td>0</td>\n",
       "      <td>0</td>\n",
       "      <td>0</td>\n",
       "      <td>1</td>\n",
       "      <td>0</td>\n",
       "      <td>0</td>\n",
       "      <td>1</td>\n",
       "      <td>0</td>\n",
       "      <td>0</td>\n",
       "      <td>1</td>\n",
       "      <td>1</td>\n",
       "    </tr>\n",
       "    <tr>\n",
       "      <th>1</th>\n",
       "      <td>01DA21F6B5FC3EF9</td>\n",
       "      <td>0</td>\n",
       "      <td>1</td>\n",
       "      <td>1</td>\n",
       "      <td>0</td>\n",
       "      <td>0</td>\n",
       "      <td>0</td>\n",
       "      <td>0</td>\n",
       "      <td>1</td>\n",
       "      <td>1</td>\n",
       "      <td>0</td>\n",
       "      <td>0</td>\n",
       "      <td>1</td>\n",
       "      <td>0</td>\n",
       "      <td>1</td>\n",
       "      <td>1</td>\n",
       "    </tr>\n",
       "    <tr>\n",
       "      <th>2</th>\n",
       "      <td>023ABF5F635EF16B</td>\n",
       "      <td>0</td>\n",
       "      <td>1</td>\n",
       "      <td>0</td>\n",
       "      <td>1</td>\n",
       "      <td>0</td>\n",
       "      <td>0</td>\n",
       "      <td>0</td>\n",
       "      <td>1</td>\n",
       "      <td>0</td>\n",
       "      <td>1</td>\n",
       "      <td>0</td>\n",
       "      <td>1</td>\n",
       "      <td>1</td>\n",
       "      <td>1</td>\n",
       "      <td>1</td>\n",
       "    </tr>\n",
       "    <tr>\n",
       "      <th>3</th>\n",
       "      <td>024320B5DBA993C2</td>\n",
       "      <td>0</td>\n",
       "      <td>1</td>\n",
       "      <td>0</td>\n",
       "      <td>1</td>\n",
       "      <td>0</td>\n",
       "      <td>0</td>\n",
       "      <td>0</td>\n",
       "      <td>1</td>\n",
       "      <td>1</td>\n",
       "      <td>1</td>\n",
       "      <td>1</td>\n",
       "      <td>1</td>\n",
       "      <td>1</td>\n",
       "      <td>1</td>\n",
       "      <td>1</td>\n",
       "    </tr>\n",
       "    <tr>\n",
       "      <th>4</th>\n",
       "      <td>0265B20C5CCF0EEE</td>\n",
       "      <td>0</td>\n",
       "      <td>1</td>\n",
       "      <td>0</td>\n",
       "      <td>1</td>\n",
       "      <td>0</td>\n",
       "      <td>0</td>\n",
       "      <td>0</td>\n",
       "      <td>1</td>\n",
       "      <td>1</td>\n",
       "      <td>1</td>\n",
       "      <td>1</td>\n",
       "      <td>1</td>\n",
       "      <td>0</td>\n",
       "      <td>1</td>\n",
       "      <td>1</td>\n",
       "    </tr>\n",
       "    <tr>\n",
       "      <th>...</th>\n",
       "      <td>...</td>\n",
       "      <td>...</td>\n",
       "      <td>...</td>\n",
       "      <td>...</td>\n",
       "      <td>...</td>\n",
       "      <td>...</td>\n",
       "      <td>...</td>\n",
       "      <td>...</td>\n",
       "      <td>...</td>\n",
       "      <td>...</td>\n",
       "      <td>...</td>\n",
       "      <td>...</td>\n",
       "      <td>...</td>\n",
       "      <td>...</td>\n",
       "      <td>...</td>\n",
       "      <td>...</td>\n",
       "    </tr>\n",
       "    <tr>\n",
       "      <th>1650</th>\n",
       "      <td>FC1EA8536CAB85CD</td>\n",
       "      <td>0</td>\n",
       "      <td>1</td>\n",
       "      <td>1</td>\n",
       "      <td>0</td>\n",
       "      <td>0</td>\n",
       "      <td>0</td>\n",
       "      <td>0</td>\n",
       "      <td>1</td>\n",
       "      <td>0</td>\n",
       "      <td>0</td>\n",
       "      <td>1</td>\n",
       "      <td>0</td>\n",
       "      <td>0</td>\n",
       "      <td>1</td>\n",
       "      <td>0</td>\n",
       "    </tr>\n",
       "    <tr>\n",
       "      <th>1651</th>\n",
       "      <td>FDD619FDED3A0528</td>\n",
       "      <td>0</td>\n",
       "      <td>1</td>\n",
       "      <td>0</td>\n",
       "      <td>1</td>\n",
       "      <td>0</td>\n",
       "      <td>0</td>\n",
       "      <td>0</td>\n",
       "      <td>1</td>\n",
       "      <td>1</td>\n",
       "      <td>1</td>\n",
       "      <td>1</td>\n",
       "      <td>1</td>\n",
       "      <td>1</td>\n",
       "      <td>1</td>\n",
       "      <td>1</td>\n",
       "    </tr>\n",
       "    <tr>\n",
       "      <th>1652</th>\n",
       "      <td>FE1A565350C807B1</td>\n",
       "      <td>0</td>\n",
       "      <td>1</td>\n",
       "      <td>0</td>\n",
       "      <td>1</td>\n",
       "      <td>0</td>\n",
       "      <td>0</td>\n",
       "      <td>0</td>\n",
       "      <td>1</td>\n",
       "      <td>1</td>\n",
       "      <td>1</td>\n",
       "      <td>1</td>\n",
       "      <td>0</td>\n",
       "      <td>1</td>\n",
       "      <td>1</td>\n",
       "      <td>1</td>\n",
       "    </tr>\n",
       "    <tr>\n",
       "      <th>1653</th>\n",
       "      <td>FE9915893DA60F35</td>\n",
       "      <td>0</td>\n",
       "      <td>1</td>\n",
       "      <td>1</td>\n",
       "      <td>0</td>\n",
       "      <td>0</td>\n",
       "      <td>0</td>\n",
       "      <td>0</td>\n",
       "      <td>1</td>\n",
       "      <td>0</td>\n",
       "      <td>1</td>\n",
       "      <td>1</td>\n",
       "      <td>0</td>\n",
       "      <td>0</td>\n",
       "      <td>1</td>\n",
       "      <td>0</td>\n",
       "    </tr>\n",
       "    <tr>\n",
       "      <th>1654</th>\n",
       "      <td>FF3275B8C1AB8727</td>\n",
       "      <td>0</td>\n",
       "      <td>1</td>\n",
       "      <td>0</td>\n",
       "      <td>1</td>\n",
       "      <td>0</td>\n",
       "      <td>0</td>\n",
       "      <td>0</td>\n",
       "      <td>1</td>\n",
       "      <td>0</td>\n",
       "      <td>1</td>\n",
       "      <td>1</td>\n",
       "      <td>1</td>\n",
       "      <td>0</td>\n",
       "      <td>1</td>\n",
       "      <td>1</td>\n",
       "    </tr>\n",
       "  </tbody>\n",
       "</table>\n",
       "<p>1655 rows × 16 columns</p>\n",
       "</div>"
      ],
      "text/plain": [
       "           DESYNPUF_ID Readmitted  Above 60  BENE_SEX_IDENT_CD_Female  \\\n",
       "0     006D1BD234E5C844          0         1                         0   \n",
       "1     01DA21F6B5FC3EF9          0         1                         1   \n",
       "2     023ABF5F635EF16B          0         1                         0   \n",
       "3     024320B5DBA993C2          0         1                         0   \n",
       "4     0265B20C5CCF0EEE          0         1                         0   \n",
       "...                ...        ...       ...                       ...   \n",
       "1650  FC1EA8536CAB85CD          0         1                         1   \n",
       "1651  FDD619FDED3A0528          0         1                         0   \n",
       "1652  FE1A565350C807B1          0         1                         0   \n",
       "1653  FE9915893DA60F35          0         1                         1   \n",
       "1654  FF3275B8C1AB8727          0         1                         0   \n",
       "\n",
       "      BENE_SEX_IDENT_CD_Male  BENE_RACE_CD_Black  BENE_RACE_CD_Hispanic  \\\n",
       "0                          1                   0                      0   \n",
       "1                          0                   0                      0   \n",
       "2                          1                   0                      0   \n",
       "3                          1                   0                      0   \n",
       "4                          1                   0                      0   \n",
       "...                      ...                 ...                    ...   \n",
       "1650                       0                   0                      0   \n",
       "1651                       1                   0                      0   \n",
       "1652                       1                   0                      0   \n",
       "1653                       0                   0                      0   \n",
       "1654                       1                   0                      0   \n",
       "\n",
       "      BENE_RACE_CD_Other  BENE_RACE_CD_White  SP_CHF  SP_COPD  SP_DEPRESSN  \\\n",
       "0                      0                   1       0        0            1   \n",
       "1                      0                   1       1        0            0   \n",
       "2                      0                   1       0        1            0   \n",
       "3                      0                   1       1        1            1   \n",
       "4                      0                   1       1        1            1   \n",
       "...                  ...                 ...     ...      ...          ...   \n",
       "1650                   0                   1       0        0            1   \n",
       "1651                   0                   1       1        1            1   \n",
       "1652                   0                   1       1        1            1   \n",
       "1653                   0                   1       0        1            1   \n",
       "1654                   0                   1       0        1            1   \n",
       "\n",
       "      SP_DIABETES  SP_ISCHMCHT  SP_OSTEOPRS  SP_STRKETIA  \n",
       "0               0            0            1            1  \n",
       "1               1            0            1            1  \n",
       "2               1            1            1            1  \n",
       "3               1            1            1            1  \n",
       "4               1            0            1            1  \n",
       "...           ...          ...          ...          ...  \n",
       "1650            0            0            1            0  \n",
       "1651            1            1            1            1  \n",
       "1652            0            1            1            1  \n",
       "1653            0            0            1            0  \n",
       "1654            1            0            1            1  \n",
       "\n",
       "[1655 rows x 16 columns]"
      ]
     },
     "execution_count": 18,
     "metadata": {},
     "output_type": "execute_result"
    }
   ],
   "source": [
    "df_in"
   ]
  },
  {
   "cell_type": "markdown",
   "id": "01ab2ab4",
   "metadata": {},
   "source": [
    "## Splitting Data into Train and Test"
   ]
  },
  {
   "cell_type": "code",
   "execution_count": 19,
   "id": "75666bb0",
   "metadata": {},
   "outputs": [],
   "source": [
    "y = df_in['Readmitted']\n",
    "y=y.astype('int')\n",
    "df_inx = df_in.drop(columns=['Readmitted','DESYNPUF_ID'],axis=1)\n",
    "X = df_inx\n",
    "y = pd.DataFrame(y)"
   ]
  },
  {
   "cell_type": "markdown",
   "id": "d08dda5f",
   "metadata": {},
   "source": [
    "## Feature Selection (Chi-Squared test)\n",
    "\n",
    "Here we apply Chi-squared feature selection test for our train and test data"
   ]
  },
  {
   "cell_type": "code",
   "execution_count": 20,
   "id": "44f74a10",
   "metadata": {},
   "outputs": [
    {
     "name": "stdout",
     "output_type": "stream",
     "text": [
      "Train (1108, 14) (1108, 1)\n",
      "Test (547, 14) (547, 1)\n"
     ]
    }
   ],
   "source": [
    "X_train, X_test, y_train, y_test = train_test_split(X, y, test_size=0.33)\n",
    "print('Train', X_train.shape, y_train.shape)\n",
    "print('Test', X_test.shape, y_test.shape)"
   ]
  },
  {
   "cell_type": "code",
   "execution_count": 21,
   "id": "f3f97351",
   "metadata": {},
   "outputs": [],
   "source": [
    "fs = SelectKBest(score_func=chi2, k=10)\n",
    "fs.fit(X_train, y_train)\n",
    "X_train_fs = fs.transform(X_train)\n",
    "X_test_fs = fs.transform(X_test)"
   ]
  },
  {
   "cell_type": "markdown",
   "id": "3e8604f9",
   "metadata": {},
   "source": [
    "#### Below we can clearly see that the calculated feature scores are very low for all the targeted features."
   ]
  },
  {
   "cell_type": "code",
   "execution_count": 22,
   "id": "e5e27882",
   "metadata": {},
   "outputs": [
    {
     "name": "stdout",
     "output_type": "stream",
     "text": [
      "0. Above 60: 2.4307596831307277\n",
      "1. BENE_SEX_IDENT_CD_Female: 0.6875233754090702\n",
      "2. BENE_SEX_IDENT_CD_Male: 0.8734928130197193\n",
      "3. BENE_RACE_CD_Black: 0.4094202898550725\n",
      "4. BENE_RACE_CD_Hispanic: 0.06521739130434784\n",
      "5. BENE_RACE_CD_Other: 0.13405797101449277\n",
      "6. BENE_RACE_CD_White: 0.10878815911193317\n",
      "7. SP_CHF: 1.764492753623189\n",
      "8. SP_COPD: 0.1646363046427941\n",
      "9. SP_DEPRESSN: 0.05955684771595966\n",
      "10. SP_DIABETES: 0.04108417767517427\n",
      "11. SP_ISCHMCHT: 0.00020630254267883804\n",
      "12. SP_OSTEOPRS: 1.0278189690966253\n",
      "13. SP_STRKETIA: 0.03371966341260623\n"
     ]
    }
   ],
   "source": [
    "cms = X_train.columns\n",
    "for i in range(len(fs.scores_)):\n",
    "    print(f\"{i}. {cms[i]}: {fs.scores_[i]}\")"
   ]
  },
  {
   "cell_type": "code",
   "execution_count": 23,
   "id": "6f55be2f",
   "metadata": {
    "scrolled": false
   },
   "outputs": [
    {
     "data": {
      "image/png": "[encoded data removed]",
      "text/plain": [
       "<Figure size 432x288 with 1 Axes>"
      ]
     },
     "metadata": {},
     "output_type": "display_data"
    }
   ],
   "source": [
    "pyplot.bar([i for i in range(len(fs.scores_))], fs.scores_)\n",
    "pyplot.show()"
   ]
  },
  {
   "cell_type": "markdown",
   "id": "2bdfdc6e",
   "metadata": {},
   "source": [
    "## Logistic Regression Model Building and testing"
   ]
  },
  {
   "cell_type": "code",
   "execution_count": 24,
   "id": "a017fc8b",
   "metadata": {},
   "outputs": [
    {
     "data": {
      "text/plain": [
       "LogisticRegression()"
      ]
     },
     "execution_count": 24,
     "metadata": {},
     "output_type": "execute_result"
    }
   ],
   "source": [
    "model = LogisticRegression()\n",
    "y_train = np.ravel(y_train)\n",
    "model.fit(X_train, y_train)"
   ]
  },
  {
   "cell_type": "code",
   "execution_count": 25,
   "id": "89f4d513",
   "metadata": {},
   "outputs": [
    {
     "name": "stdout",
     "output_type": "stream",
     "text": [
      "0.9963436928702011\n"
     ]
    }
   ],
   "source": [
    "score = model.score(X_test, y_test)\n",
    "print(score)"
   ]
  },
  {
   "cell_type": "code",
   "execution_count": 26,
   "id": "0c975a12",
   "metadata": {},
   "outputs": [],
   "source": [
    "y_pred = model.predict(X_test)\n",
    "cm = confusion_matrix(np.array(y_test), y_pred)"
   ]
  },
  {
   "cell_type": "markdown",
   "id": "f8168752",
   "metadata": {},
   "source": [
    "## Accuracy Matrix"
   ]
  },
  {
   "cell_type": "code",
   "execution_count": 27,
   "id": "af77ed44",
   "metadata": {},
   "outputs": [
    {
     "name": "stdout",
     "output_type": "stream",
     "text": [
      "AxesSubplot(0.125,0.125;0.62x0.755)\n"
     ]
    },
    {
     "data": {
      "image/png": "[encoded data removed]",
      "text/plain": [
       "<Figure size 432x288 with 2 Axes>"
      ]
     },
     "metadata": {},
     "output_type": "display_data"
    }
   ],
   "source": [
    "print(skplt.plot_confusion_matrix(y_test,y_pred))"
   ]
  },
  {
   "cell_type": "markdown",
   "id": "7a104048",
   "metadata": {},
   "source": [
    " Due to unbalanced data the final accuracy matrix was unfavourable. Thus SMOTE optimization was used to handle the skewed data.\n",
    "\n",
    "### After using SMOTE"
   ]
  },
  {
   "cell_type": "code",
   "execution_count": 31,
   "id": "57dbc8e4",
   "metadata": {},
   "outputs": [
    {
     "name": "stdout",
     "output_type": "stream",
     "text": [
      "Train (2209, 14) (2209, 1)\n",
      "Test (1089, 14) (1089, 1)\n"
     ]
    }
   ],
   "source": [
    "oversample = SMOTE()\n",
    "X, y = oversample.fit_resample(X, y)\n",
    "\n",
    "from sklearn.model_selection import train_test_split\n",
    "X_train, X_test, y_train, y_test = train_test_split(X, y, test_size=0.33)\n",
    "print('Train', X_train.shape, y_train.shape)\n",
    "print('Test', X_test.shape, y_test.shape)"
   ]
  },
  {
   "cell_type": "code",
   "execution_count": 32,
   "id": "7c3a6c18",
   "metadata": {},
   "outputs": [
    {
     "name": "stdout",
     "output_type": "stream",
     "text": [
      "0. Above 60: 867.2683881798382\n",
      "1. BENE_SEX_IDENT_CD_Female: 211.22758755269098\n",
      "2. BENE_SEX_IDENT_CD_Male: 93.64075163794864\n",
      "3. BENE_RACE_CD_Black: 118.31180811808116\n",
      "4. BENE_RACE_CD_Hispanic: 18.680811808118083\n",
      "5. BENE_RACE_CD_Other: 37.361623616236166\n",
      "6. BENE_RACE_CD_White: 14.35154968894127\n",
      "7. SP_CHF: 483.62546125461256\n",
      "8. SP_COPD: 292.8536275324822\n",
      "9. SP_DEPRESSN: 246.35494466479162\n",
      "10. SP_DIABETES: 355.0226347882554\n",
      "11. SP_ISCHMCHT: 280.30242644915495\n",
      "12. SP_OSTEOPRS: 529.2354783579362\n",
      "13. SP_STRKETIA: 29.695408190960464\n"
     ]
    }
   ],
   "source": [
    "fs = SelectKBest(score_func=chi2, k=10)\n",
    "fs.fit(X_train, y_train)\n",
    "X_train_fs = fs.transform(X_train)\n",
    "X_test_fs = fs.transform(X_test)\n",
    "\n",
    "cms = X_train.columns\n",
    "for i in range(len(fs.scores_)):\n",
    "    print(f\"{i}. {cms[i]}: {fs.scores_[i]}\")"
   ]
  },
  {
   "cell_type": "code",
   "execution_count": 33,
   "id": "d8dd2059",
   "metadata": {},
   "outputs": [
    {
     "data": {
      "image/png": "[encoded data removed]",
      "text/plain": [
       "<Figure size 432x288 with 1 Axes>"
      ]
     },
     "metadata": {},
     "output_type": "display_data"
    }
   ],
   "source": [
    "pyplot.bar([i for i in range(len(fs.scores_))], fs.scores_)\n",
    "pyplot.show()"
   ]
  },
  {
   "cell_type": "code",
   "execution_count": 34,
   "id": "36b465ac",
   "metadata": {},
   "outputs": [
    {
     "data": {
      "text/plain": [
       "LogisticRegression()"
      ]
     },
     "execution_count": 34,
     "metadata": {},
     "output_type": "execute_result"
    }
   ],
   "source": [
    "model = LogisticRegression()\n",
    "y_train = np.ravel(y_train)\n",
    "model.fit(X_train, y_train)"
   ]
  },
  {
   "cell_type": "code",
   "execution_count": 35,
   "id": "85af2664",
   "metadata": {},
   "outputs": [
    {
     "name": "stdout",
     "output_type": "stream",
     "text": [
      "0.9632690541781451\n"
     ]
    }
   ],
   "source": [
    "score = model.score(X_test, y_test)\n",
    "print(score)"
   ]
  },
  {
   "cell_type": "code",
   "execution_count": 36,
   "id": "48cb6eb2",
   "metadata": {},
   "outputs": [],
   "source": [
    "y_pred = model.predict(X_test)\n",
    "cm = confusion_matrix(np.array(y_test), y_pred)"
   ]
  },
  {
   "cell_type": "markdown",
   "id": "56867344",
   "metadata": {},
   "source": [
    "## Final Accuracy matrix"
   ]
  },
  {
   "cell_type": "code",
   "execution_count": 37,
   "id": "10105b72",
   "metadata": {},
   "outputs": [
    {
     "name": "stdout",
     "output_type": "stream",
     "text": [
      "AxesSubplot(0.125,0.125;0.62x0.755)\n"
     ]
    },
    {
     "data": {
      "image/png": "[encoded data removed]",
      "text/plain": [
       "<Figure size 432x288 with 2 Axes>"
      ]
     },
     "metadata": {},
     "output_type": "display_data"
    }
   ],
   "source": [
    "print(skplt.plot_confusion_matrix(y_test,y_pred))"
   ]
  }
 ],
 "metadata": {
  "kernelspec": {
   "display_name": "Python 3 (ipykernel)",
   "language": "python",
   "name": "python3"
  },
  "language_info": {
   "codemirror_mode": {
    "name": "ipython",
    "version": 3
   },
   "file_extension": ".py",
   "mimetype": "text/x-python",
   "name": "python",
   "nbconvert_exporter": "python",
   "pygments_lexer": "ipython3",
   "version": "3.8.5"
  }
 },
 "nbformat": 4,
 "nbformat_minor": 5
}
